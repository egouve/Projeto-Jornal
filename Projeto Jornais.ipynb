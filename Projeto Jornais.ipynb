{
 "cells": [
  {
   "cell_type": "code",
   "execution_count": null,
   "id": "2335ca93",
   "metadata": {},
   "outputs": [],
   "source": [
    "pip install xvfbwrapper"
   ]
  },
  {
   "cell_type": "code",
   "execution_count": null,
   "id": "3e364ed9",
   "metadata": {},
   "outputs": [],
   "source": [
    "pip install pyvirtualdisplay"
   ]
  },
  {
   "cell_type": "code",
   "execution_count": null,
   "id": "9f069052",
   "metadata": {},
   "outputs": [],
   "source": [
    "!pip install requests beautifulsoup4 python-dateutil"
   ]
  },
  {
   "cell_type": "code",
   "execution_count": null,
   "id": "20c36974",
   "metadata": {},
   "outputs": [],
   "source": [
    "import requests\n",
    "from bs4 import BeautifulSoup\n",
    "import re\n",
    "import nltk\n",
    "nltk.download('punkt')\n",
    "nltk.download('stopwords')\n",
    "from nltk.corpus import stopwords\n",
    "import pickle\n",
    "import os\n",
    "from collections import Counter\n",
    "from datetime import datetime, timedelta\n",
    "from dateutil import parser\n",
    "from urllib.parse import urljoin\n",
    "from datetime import datetime\n",
    "from dateutil.relativedelta import relativedelta\n",
    "from pyvirtualdisplay import Display\n",
    "from requests.structures import CaseInsensitiveDict\n",
    "from datetime import datetime\n",
    "from http.cookiejar import CookieJar\n",
    "from collections import CaseInsensitiveDict\n",
    "\n"
   ]
  },
  {
   "cell_type": "code",
   "execution_count": null,
   "id": "84ee66f6",
   "metadata": {},
   "outputs": [],
   "source": [
    "with open(\"tokens_relevantes.txt\", \"r\") as f:\n",
    "    tokens_relevantes = [line.strip() for line in f]"
   ]
  },
  {
   "cell_type": "code",
   "execution_count": null,
   "id": "f300e932",
   "metadata": {},
   "outputs": [],
   "source": [
    "with open(\"tokens_irrelevantes.txt\", \"r\") as f:\n",
    "    tokens_irrelevantes = [line.strip() for line in f]"
   ]
  },
  {
   "attachments": {},
   "cell_type": "markdown",
   "id": "0982bd6d",
   "metadata": {},
   "source": [
    "# Tokenizando notícias do Estadão, CNN e Crusoé"
   ]
  },
  {
   "cell_type": "code",
   "execution_count": null,
   "id": "9baf006d",
   "metadata": {},
   "outputs": [],
   "source": [
    "tokens_inuteis = ['a', 'b', 'c', 'd', 'e', 'f', 'g', 'h', 'i', 'j', 'k',\n",
    "                  'l', 'm', 'n', 'o', 'p', 'q', 'r', 's', 't', 'u', 'v',\n",
    "                  'w', 'x', 'y', 'z', 'º', 'aut', 'newsletters', 'pop',\n",
    "                  'podcasts', 'brasileirão', 'nemo', 'enim', 'ipsam',\n",
    "                  'voluptatem', 'quia', 'voluptas', 'sit', 'aspernatur',\n",
    "                 'odit', 'fugit', 'newsletter', 'diz', 'veja', 'leia',\n",
    "                 'news', 'you', 'tube', 'youtube', 'linkedin', 'in',\n",
    "                  'linked', 'pinterest', 'metacast', 'cable', 'network',\n",
    "                 'horóscopo', 'quadrinhos', 'broadcast', 'ví', 'assinantes',\n",
    "                 'assine', 'assinante']"
   ]
  },
  {
   "cell_type": "code",
   "execution_count": null,
   "id": "db32b219",
   "metadata": {},
   "outputs": [],
   "source": [
    "def tokenizar_noticias_relevantes(urls_relevantes, email=None, senha=None):\n",
    "    tokens_gerados = []\n",
    "    tokens_sem_stopwords = [] # declaração fora do loop\n",
    "\n",
    "    for url in urls_relevantes:\n",
    "        # Faz a autenticação no paywall se necessário\n",
    "        sessao = requests.Session()\n",
    "        if 'oantagonista' in url or 'crusoe' in url:\n",
    "            if email is None or senha is None:\n",
    "                print(\"Email e senha são necessários para acessar o paywall.\")\n",
    "                return None\n",
    "            resposta_login = sessao.post(\"https://crusoe.uol.com.br/ws/uid/3afde8142c87d233be5421ac3be7385e\", json={\"username\": email, \"password\": senha})\n",
    "        elif 'estadao' in url:\n",
    "            if email is None or senha is None:\n",
    "                print(\"Email e senha são necessários para acessar o paywall.\")\n",
    "                return None\n",
    "            resposta_login = sessao.post(\"https://acesso.estadao.com.br/login\", data={\"username\": email, \"password\": senha})\n",
    "        else:\n",
    "            resposta_login = None\n",
    "\n",
    "        if resposta_login is not None and resposta_login.status_code != 200:\n",
    "            print(\"Não foi possível fazer login no paywall.\")\n",
    "            return None\n",
    "\n",
    "        # Faz o download do HTML da página da notícia\n",
    "        resposta = sessao.get(url)\n",
    "        if resposta.status_code != 200:\n",
    "            print(\"Não foi possível acessar a página da notícia.\")\n",
    "            continue\n",
    "        html_pagina = resposta.content\n",
    "\n",
    "        # Extrai o texto do conteúdo HTML\n",
    "        soup = BeautifulSoup(html_pagina, 'html.parser')\n",
    "        texto_noticia = soup.get_text()\n",
    "\n",
    "        # Remove quebras de linha, espaços em branco extras e caracteres especiais\n",
    "        texto_noticia = re.sub('\\s+', ' ', texto_noticia).strip()\n",
    "        # Separa palavras que estão juntas\n",
    "        texto_noticia = re.sub('(?<=\\w)(?=[A-Z])', ' ', texto_noticia)\n",
    "        texto_noticia = re.sub('(?<=\\w)(?=\\d)', ' ', texto_noticia)\n",
    "        texto_noticia = re.sub('(?<=\\d)(?=\\w)', ' ', texto_noticia)\n",
    "\n",
    "        # Tokeniza o texto da notícia\n",
    "        tokens = nltk.word_tokenize(texto_noticia)\n",
    "\n",
    "        stop_words = set(stopwords.words('portuguese'))\n",
    "\n",
    "        for token in tokens:\n",
    "            if token.lower() not in stop_words and token.isalpha():\n",
    "                tokens_sem_stopwords.append(token.lower())\n",
    "                \n",
    "         # Remove tokens inúteis da lista        \n",
    "        tokens_gerados = [t for t in tokens_gerados if t not in tokens_inuteis]\n",
    "\n",
    "        # Adiciona os novos tokens à lista de tokens relevantes\n",
    "        tokens_gerados.extend(tokens_sem_stopwords)\n",
    "\n",
    "    # Salva a lista de tokens gerados em um arquivo\n",
    "    with open(\"tokens_relevantes.txt\", \"a\") as f:\n",
    "        f.write(\"\\n\".join(tokens_sem_stopwords) + \"\\n\")\n",
    "        \n",
    "    return tokens_gerados"
   ]
  },
  {
   "cell_type": "code",
   "execution_count": null,
   "id": "788373f6",
   "metadata": {},
   "outputs": [],
   "source": [
    "def tokenizar_noticias_irrelevantes(urls_irrelevantes, email=None, senha=None):\n",
    "    tokens_gerados = []\n",
    "    tokens_sem_stopwords = [] # declaração fora do loop\n",
    "\n",
    "    for url in urls_irrelevantes:\n",
    "        # Faz a autenticação no paywall se necessário\n",
    "        sessao = requests.Session()\n",
    "        if 'oantagonista' in url or 'crusoe' in url:\n",
    "            if email is None or senha is None:\n",
    "                print(\"Email e senha são necessários para acessar o paywall.\")\n",
    "                return None\n",
    "            resposta_login = sessao.post(\"https://crusoe.uol.com.br/ws/uid/3afde8142c87d233be5421ac3be7385e\", json={\"username\": email, \"password\": senha})\n",
    "        elif 'estadao' in url:\n",
    "            if email is None or senha is None:\n",
    "                print(\"Email e senha são necessários para acessar o paywall.\")\n",
    "                return None\n",
    "            resposta_login = sessao.post(\"https://acesso.estadao.com.br/login\", data={\"username\": email, \"password\": senha})\n",
    "        else:\n",
    "            resposta_login = None\n",
    "\n",
    "        if resposta_login is not None and resposta_login.status_code != 200:\n",
    "            print(\"Não foi possível fazer login no paywall.\")\n",
    "            return None\n",
    "\n",
    "        # Faz o download do HTML da página da notícia\n",
    "        resposta = sessao.get(url)\n",
    "        if resposta.status_code != 200:\n",
    "            print(\"Não foi possível acessar a página da notícia.\")\n",
    "            continue\n",
    "        html_pagina = resposta.content\n",
    "\n",
    "        # Extrai o texto do conteúdo HTML\n",
    "        soup = BeautifulSoup(html_pagina, 'html.parser')\n",
    "        texto_noticia = soup.get_text()\n",
    "\n",
    "        # Remove quebras de linha, espaços em branco extras e caracteres especiais\n",
    "        texto_noticia = re.sub('\\s+', ' ', texto_noticia).strip()\n",
    "        # Separa palavras que estão juntas\n",
    "        texto_noticia = re.sub('(?<=\\w)(?=[A-Z])', ' ', texto_noticia)\n",
    "        texto_noticia = re.sub('(?<=\\w)(?=\\d)', ' ', texto_noticia)\n",
    "        texto_noticia = re.sub('(?<=\\d)(?=\\w)', ' ', texto_noticia)\n",
    "\n",
    "        # Tokeniza o texto da notícia\n",
    "        tokens = nltk.word_tokenize(texto_noticia)\n",
    "\n",
    "        stop_words = set(stopwords.words('portuguese'))\n",
    "\n",
    "        for token in tokens:\n",
    "            if token.lower() not in stop_words and token.isalpha():\n",
    "                tokens_sem_stopwords.append(token.lower())\n",
    "                \n",
    "        # Remove tokens inúteis da lista        \n",
    "        tokens_gerados = [t for t in tokens_gerados if t not in tokens_inuteis]\n",
    "\n",
    "        # Adiciona os novos tokens à lista de tokens irrelevantes\n",
    "        tokens_gerados.extend(tokens_sem_stopwords)\n",
    "\n",
    "    # Salva a lista de tokens gerados em um arquivo\n",
    "    with open(\"tokens_irrelevantes.txt\", \"a\") as f:\n",
    "        f.write(\"\\n\".join(tokens_sem_stopwords) + \"\\n\")\n",
    "        \n",
    "    return tokens_gerados"
   ]
  },
  {
   "cell_type": "code",
   "execution_count": null,
   "id": "93f54f05",
   "metadata": {},
   "outputs": [],
   "source": [
    "urls_relevantes = ['https://www.cnnbrasil.com.br/politica/a-pf-ex-ministro-goncalves-dias-diz-que-nao-foi-omisso-e-que-nao-tem-responsabilidade-sobre-atos-de-8-1/', 'https://www.cnnbrasil.com.br/politica/pl-define-parte-dos-nomes-para-cpi-dos-atos-de-8-de-janeiro/', 'https://www.cnnbrasil.com.br/politica/governo-avanca-para-ter-maioria-na-cpi-do-8-1-e-define-alvos-veja-nomes/', 'https://www.cnnbrasil.com.br/politica/governo-avanca-para-ter-maioria-na-cpi-do-8-1-e-define-alvos-veja-nomes/', 'https://www.cnnbrasil.com.br/politica/moraes-determina-quebra-de-sigilo-de-todas-as-imagens-do-8-de-janeiro/', 'https://www.cnnbrasil.com.br/politica/mucio-diz-lamentar-queda-de-goncalves-dias-um-dos-mais-fieis-amigos-de-lula/', 'https://www.cnnbrasil.com.br/politica/oposicao-defende-que-pgr-denuncie-goncalves-dias-por-prevaricacao/', 'https://www.cnnbrasil.com.br/politica/camara-dos-deputados-deve-votar-projeto-das-fake-news-nesta-semana/', 'https://www.cnnbrasil.com.br/politica/deputados-debatem-sobre-mudanca-de-postura-do-governo-em-relacao-a-cpi-de-8-de-janeiro/', 'https://www.cnnbrasil.com.br/politica/nao-adianta-discutir-com-big-techs-antes-de-a-camara-analisar-texto-diz-relator-do-pl-das-fake-news-no-senado/', 'https://www.cnnbrasil.com.br/politica/apos-determinacao-do-stf-gsi-libera-acesso-a-imagens-do-8-de-janeiro-mas-site-da-pane/', 'https://www.cnnbrasil.com.br/politica/a-pf-ex-ministro-cita-apagao-geral-e-falta-de-condicoes-de-efetuar-prisoes-sozinho-em-8-1/', 'https://www.cnnbrasil.com.br/politica/abin-nao-informou-sobre-riscos-de-8-1-com-antecedencia-diz-ex-ministro-a-pf/', 'https://www.cnnbrasil.com.br/politica/a-pf-ex-ministro-diz-que-se-tivesse-visto-teria-prendido-major-que-deu-agua-a-invasores-do-planalto/', 'https://www.cnnbrasil.com.br/politica/alckmin-diz-que-goncalves-dias-fez-o-correto-em-pedir-demissao/', 'https://www.cnnbrasil.com.br/politica/policia-federal-vai-ouvir-mais-nove-militares-do-gsi-neste-domingo/', 'https://www.estadao.com.br/politica/mariana-carneiro/criticas-de-favaro-ao-mst-foram-combinadas-com-lula/', 'https://www.estadao.com.br/politica/mariana-carneiro/deputados-do-pt-insistem-em-alterar-limite-para-investimentos-do-novo-marco-fiscal/', 'https://www.estadao.com.br/politica/pl-das-fake-news-mais-de-100-deputados-e-big-techs-pressionam-para-adiar-votacao-do-projeto/', 'https://www.estadao.com.br/politica/mariana-carneiro/tarcisio-e-o-favorito-a-substituir-bolsonaro-em-caso-de-inelegibilidade/', 'https://www.estadao.com.br/politica/lula-diz-que-definicao-sobre-gsi-fica-para-volta-ao-brasil-e-que-congresso-decide-sobre-cpmi/', 'https://www.estadao.com.br/politica/momentos-de-tensao-entre-ministros-do-lula-no-dia-da-invasao-ao-planalto-veja-video/', 'https://www.estadao.com.br/politica/mariana-carneiro/governo-deixa-de-tratar-impeachment-de-dilma-como-golpe-em-registros-oficiais-apos-acao-na-justica/', 'https://www.estadao.com.br/politica/mariana-carneiro/governo-diz-apoiar-cpmi-do-8-de-janeiro-mas-parlamentares-da-base-se-negam-a-assinar-requerimento/', 'https://www.estadao.com.br/politica/mariana-carneiro/ataques-de-salles-a-nunes-desagradam-ala-do-pl-ligada-a-valdemar-costa-neto/', 'https://www.estadao.com.br/politica/bolsonaristas-pressionam-tarcisio-por-mudancas-na-cultura-e-saida-de-secretaria/', 'https://www.estadao.com.br/politica/unica-camera-com-audio-do-planalto-mostra-tiros-bombas-e-golpistas-tomando-palacio-veja-video/', 'https://www.estadao.com.br/politica/veja-o-passo-a-passo-de-ministro-do-gsi-no-planalto-do-susto-ao-ver-golpistas-a-encontro-com-lula/', 'https://www.estadao.com.br/politica/colunas/militares-que-aparecem-em-imagens-acompanharam-bolsonaro-em-compromisso-eleitoral-e-motociatas/', 'https://crusoe.uol.com.br/diario/governo-quer-tirar-andre-fernandes-da-cpmi-de-8-de-janeiro/', 'https://crusoe.uol.com.br/diario/exclusivo-governo-lula-gasta-13-vezes-mais-em-propaganda-que-bolsonaro-no-inicio-de-mandato/', 'https://crusoe.uol.com.br/diario/socialistas-demonstram-insatisfacao-com-ingresso-do-psb-em-blocao-de-lira/', ]"
   ]
  },
  {
   "cell_type": "code",
   "execution_count": null,
   "id": "90cd9501",
   "metadata": {},
   "outputs": [],
   "source": [
    "urls_irrelevantes = ['https://www.cnnbrasil.com.br/politica/veja-a-integra-do-depoimento-do-ex-ministro-goncalves-dias-a-pf/', 'https://www.cnnbrasil.com.br/politica/militares-do-gsi-que-aparecem-em-imagens-do-8-de-janeiro-prestam-depoimento-a-pf/', 'https://www.cnnbrasil.com.br/politica/anderson-torres-piora-e-defesa-pede-avaliacao-psicologica/', 'https://www.cnnbrasil.com.br/politica/apos-divulgacao-de-imagens-do-8-de-janeiro-major-que-deu-agua-a-manifestantes-e-mais-oito-militares-do-gsi-depoem-a-pf/', 'https://www.cnnbrasil.com.br/politica/ministra-anielle-franco-discute-discriminacao-racial-em-viagem-oficial-a-portugal/', 'https://www.cnnbrasil.com.br/politica/janja-e-vista-fazendo-compras-em-loja-de-luxo-em-portugal/', 'https://www.cnnbrasil.com.br/politica/lula-participa-de-cerimonia-com-presidente-de-portugal-e-homenagem-a-camoes/', 'https://www.cnnbrasil.com.br/politica/lula-pede-desculpas-sobre-fala-em-que-diz-que-pessoas-com-transtornos-mentais-tem-desequilibrio-de-parafuso/', 'https://www.cnnbrasil.com.br/politica/policia-federal-vai-ouvir-mais-nove-militares-do-gsi-neste-domingo/','https://www.cnnbrasil.com.br/politica/ao-jornal-valor-ministro-interino-do-gsi-critica-cnn/', 'https://www.estadao.com.br/politica/legis-ativo/legis-ativo-resumo-da-semana-discussao-envolvendo-os-deputados-federais-eduardo-bolsonaro-pl-sp-e-dionilso-marcon-pt-rs-comissao-de-etica-arcabouco-fiscal-instalacao-de-cpmi-piso-salarial-d/', 'https://www.estadao.com.br/politica/blog-do-fausto-macedo/habitos-manias/', 'https://www.estadao.com.br/politica/blog-do-fausto-macedo/governo-desiste-de-tributar-produtos-importados-por-pessoas-fisicas/', 'https://www.estadao.com.br/politica/blog-do-fausto-macedo/ciencia-a-servico-do-mal-2/', 'https://www.estadao.com.br/politica/lula-enfrenta-questionamentos-da-classe-politica-em-meio-a-uma-agenda-de-aproximacao-com-portugal/', 'https://www.estadao.com.br/politica/janja-publica-foto-de-lula-com-gravata-nova-apos-repercussao-em-loja-de-luxo/', 'https://www.estadao.com.br/politica/lula-volta-a-dizer-em-portugal-que-russia-e-ucrania-nao-querem-parar-guerra-e-defende-terceira-via/', 'https://www.estadao.com.br/politica/blog-do-fausto-macedo/comissionado-governo-acre-exoneracao-golpe-vazamento-conversas-intimas/', 'https://www.estadao.com.br/politica/mst-inicia-desocupacao-de-area-de-pesquisa-da-embrapa-invadida-em-pernambuco/', 'https://www.estadao.com.br/politica/blog-do-fausto-macedo/pf-depoimentos-servidores-gsi-8-janeiro/', 'https://www.estadao.com.br/politica/imagens-mostram-golpistas-acolhidos-por-militar-no-planalto-e-tentativa-de-roubo-a-caixa-eletronico/', 'https://www.estadao.com.br/politica/eliane-cantanhede/a-cpi-vem-ai-e-lula-alimenta-o-bolsonarismo-que-e-craque-em-inverter-a-verdade/', 'https://www.estadao.com.br/politica/j-r-guzzo/imagens-de-um-pais-sem-lei/', 'https://www.estadao.com.br/politica/congresso-manobra-e-usa-r-287-mi-de-emenda-pix-durante-campanha-eleitoral/', 'https://www.estadao.com.br/politica/blog-do-fausto-macedo/o-heraldico-brio-do-paulistano/', 'https://www.estadao.com.br/politica/mariana-carneiro/sindicalistas-nao-se-entendem-sobre-regulamentacao-de-trabalho-por-aplicativo/', 'https://www.estadao.com.br/politica/blog-do-fausto-macedo/acessibilidade-vagas-de-garagem-para-pcds-e-idosos/', 'https://www.estadao.com.br/politica/governo-zema-chama-inconfidencia-de-golpe-e-diz-que-tiradentes-confessou-crimes/', 'https://www.estadao.com.br/politica/lula-ameniza-discurso-e-diz-que-nao-pediu-que-europa-e-eua-mudassem-postura-sobre-guerra-na-ucrania/', 'https://www.estadao.com.br/politica/blog-do-fausto-macedo/pf-stf-4-mil-horas-gravacao-atos-golpistas-pericia/', 'https://www.estadao.com.br/politica/blog-do-fausto-macedo/video-choque-pm-manifestantes-planalto-16-minutos/', 'https://www.estadao.com.br/politica/dedo-para-camera-destruicao-de-raio-x-e-roubo-de-estatua-videos-mostram-golpistas-em-acao-no-81/', 'https://www.estadao.com.br/politica/mst-deixa-area-da-embrapa-em-pernambuco-e-faz-tres-novas-invasoes-de-fazendas-na-bahia/', 'https://www.estadao.com.br/politica/videos-mostram-falhas-de-policiais-em-remocao-de-golpistas-do-planalto-em-81/', 'https://www.estadao.com.br/politica/blog-do-fausto-macedo/avaliacao-psicologica-anderson-torres-preso-100-dias/', 'https://www.estadao.com.br/politica/blog-do-fausto-macedo/atos-golpistas-servidores-gsi-inteligencia-risco-violencia-efetivo-insuficiente/', 'https://crusoe.uol.com.br/diario/como-a-oposicao-argentina-recebeu-a-noticia-que-fernandez-desistiu-de-tentar-reeleicao/', 'https://crusoe.uol.com.br/diario/trumpista-perde-desafio-de-fraude-eleitoral-e-tera-de-pagar-us-5-milhoes/', 'https://crusoe.uol.com.br/diario/latitude22-eleicoes-na-argentina-mendoexit-e-vinho-amarelo/', 'https://crusoe.uol.com.br/diario/a-reunificacao-da-alemanha-e-a-construcao-de-brasilia/', 'https://crusoe.uol.com.br/diario/a-seca-de-votos-que-levou-alberto-fernandez-a-desistir-da-reeleicao/', 'https://crusoe.uol.com.br/diario/os-numeros-da-ebc/', 'https://crusoe.uol.com.br/diario/os-chineses-estao-de-olho-no-mercado-de-defesa-do-brasil/', 'https://crusoe.uol.com.br/diario/chocolate-com-mais-pimenta/', 'https://crusoe.uol.com.br/diario/mulheres-precisam-de-leis-para-faltar-ao-trabalho-quando-sentirem-colicas/']"
   ]
  },
  {
   "cell_type": "code",
   "execution_count": null,
   "id": "0bd1ea65",
   "metadata": {},
   "outputs": [],
   "source": [
    "tokenizar_noticias_relevantes(urls_relevantes, 'email', 'senha')"
   ]
  },
  {
   "cell_type": "code",
   "execution_count": null,
   "id": "a36b621e",
   "metadata": {},
   "outputs": [],
   "source": [
    "tokenizar_noticias_irrelevantes(urls_irrelevantes, 'email', 'senha')"
   ]
  },
  {
   "cell_type": "code",
   "execution_count": null,
   "id": "93e63f65",
   "metadata": {},
   "outputs": [],
   "source": [
    "len(tokens_relevantes)"
   ]
  },
  {
   "cell_type": "code",
   "execution_count": null,
   "id": "bcea8fb1",
   "metadata": {},
   "outputs": [],
   "source": [
    "len(tokens_irrelevantes)"
   ]
  },
  {
   "cell_type": "code",
   "execution_count": null,
   "id": "09fb493b",
   "metadata": {},
   "outputs": [],
   "source": [
    "tokens_relevantes = [t for t in tokens_relevantes if t not in tokens_inuteis]"
   ]
  },
  {
   "cell_type": "code",
   "execution_count": null,
   "id": "b654fcec",
   "metadata": {},
   "outputs": [],
   "source": [
    "tokens_irrelevantes = [t for t in tokens_irrelevantes if t not in tokens_inuteis]"
   ]
  },
  {
   "cell_type": "code",
   "execution_count": null,
   "id": "4a37461f",
   "metadata": {},
   "outputs": [],
   "source": [
    "contagem_palavras_relevantes = Counter(tokens_relevantes)\n",
    "contagem_palavras_relevantes.most_common()"
   ]
  },
  {
   "cell_type": "code",
   "execution_count": null,
   "id": "3967dcc0",
   "metadata": {},
   "outputs": [],
   "source": [
    "contagem_palavras_irrelevantes = Counter(tokens_irrelevantes)\n",
    "contagem_palavras_irrelevantes.most_common()"
   ]
  },
  {
   "attachments": {},
   "cell_type": "markdown",
   "id": "036b017c",
   "metadata": {},
   "source": [
    "# Buscando notícias de forma automática nos jornais"
   ]
  },
  {
   "cell_type": "code",
   "execution_count": null,
   "id": "cf9708b5",
   "metadata": {},
   "outputs": [],
   "source": [
    "texto_noticia = \"Um estudo recente descobriu que a prática regular de exercícios físicos pode ajudar a prevenir uma série de doenças crônicas, como diabetes, hipertensão e doenças cardíacas. Além disso, a atividade física também pode ter efeitos positivos no humor e na saúde mental, ajudando a reduzir o estresse e a ansiedade. O estudo destaca a importância de incorporar exercícios físicos na rotina diária para melhorar a qualidade de vida e prevenir doenças.\""
   ]
  },
  {
   "cell_type": "code",
   "execution_count": null,
   "id": "a7c42d84",
   "metadata": {},
   "outputs": [],
   "source": [
    "def pontuacao_noticia(texto_noticia, tokens_relevantes, tokens_irrelevantes):\n",
    "    # Converte texto para minúsculas\n",
    "    texto_noticia = texto_noticia.lower()\n",
    "\n",
    "    # Remove caracteres indesejados\n",
    "    texto_noticia = re.sub('[^a-zA-Z0-9 \\n\\.]', '', texto_noticia)\n",
    "\n",
    "    # Remove quebras de linha, espaços em branco extras e caracteres especiais\n",
    "    texto_noticia = re.sub('\\s+', ' ', texto_noticia).strip()\n",
    "    # Separa palavras que estão juntas\n",
    "    texto_noticia = re.sub('(?<=\\w)(?=[A-Z])', ' ', texto_noticia)\n",
    "    texto_noticia = re.sub('(?<=\\w)(?=\\d)', ' ', texto_noticia)\n",
    "    texto_noticia = re.sub('(?<=\\d)(?=\\w)', ' ', texto_noticia)\n",
    "\n",
    "    # Tokeniza o texto\n",
    "    tokens = texto_noticia.split()\n",
    "\n",
    "    # Remove tokens irrelevantes e atribui penalidade\n",
    "    relevant_tokens = [token.lower() for token in tokens_relevantes]\n",
    "    irrelevant_tokens = [token.lower() for token in tokens_irrelevantes]\n",
    "    tokens = [token for token in tokens if token not in irrelevant_tokens]\n",
    "\n",
    "    # Calcula pontuação\n",
    "    pontuacao = 0\n",
    "    for token in tokens:\n",
    "        if token in relevant_tokens:\n",
    "            pontuacao += 1\n",
    "        elif token in irrelevant_tokens:\n",
    "            pontuacao -= 1\n",
    "\n",
    "    return pontuacao"
   ]
  },
  {
   "cell_type": "code",
   "execution_count": null,
   "id": "77049586",
   "metadata": {},
   "outputs": [],
   "source": [
    "pontuacao_noticia(texto_noticia, tokens_relevantes, tokens_irrelevantes)"
   ]
  },
  {
   "cell_type": "code",
   "execution_count": null,
   "id": "387d1a49",
   "metadata": {},
   "outputs": [],
   "source": [
    "def buscar_noticias_estadao(date):\n",
    "    login_url = 'https://acesso.estadao.com.br/login'\n",
    "    noticias_url = 'https://www.estadao.com.br/politica'\n",
    "    headers = {\n",
    "    \"Cookie\": \"sb=QdnQYKeF9IFsdGcCkP7Pog1z; datr=CL3RYBD4JmSVPMBXFGZzvKay; c_user=100055367296182; xs=37:uTmoHWqKkbWKaw:2:1679953928:-1:-1; fr=0FMF8CWHuAoJUIvaO.AWUqq_kKGVKz2uHFo497Z4B8UYU.Bj78Gm.3C.AAA.0.0.BkRb3g.AWWGh39N8qM\"\n",
    "    }\n",
    "    session = requests.Session()\n",
    "\n",
    "    # Realiza login para acessar as notícias\n",
    "    response = session.get(login_url, headers=headers)\n",
    "    soup = BeautifulSoup(response.content, 'html.parser')\n",
    "    csrf_token = soup.find('input', {'name': 'CSRF-TOKEN'})\n",
    "    if csrf_token is None:\n",
    "        raise Exception('Token CSRF não encontrado')\n",
    "    csrf_token = csrf_token.get('value')\n",
    "\n",
    "    login_data = {\n",
    "        'username': 'email',\n",
    "        'password': 'senha',\n",
    "        'CSRF-TOKEN': csrf_token,\n",
    "    }\n",
    "\n",
    "    response = session.post(login_url, data=login_data)\n",
    "    response.raise_for_status()\n",
    "\n",
    "    # Acessa a página de notícias\n",
    "    response = session.get(noticias_url)\n",
    "    soup = BeautifulSoup(response.content, 'html.parser')\n",
    "\n",
    "    # Encontra as notícias relevantes da data especificada\n",
    "    noticias = []\n",
    "    links_adicionados = []\n",
    "    lista_noticias_com_pontuacao = []\n",
    "    for article in soup.find_all('article'):\n",
    "        timestamp = article.find('time').get('datetime')\n",
    "        date_noticia = datetime.strptime(timestamp, '%Y-%m-%dT%H:%M:%S.%fZ').date()\n",
    "        if date_noticia == date:\n",
    "            titulo = article.find('h3').get_text().strip()\n",
    "            descricao = article.find('p').get_text().strip()\n",
    "            link = article.find('a').get('href')\n",
    "            if link:\n",
    "                link = 'https://www.estadao.com.br' + link\n",
    "                # Verifica se o link já foi adicionado\n",
    "                if link not in links_adicionados:\n",
    "                    # Adiciona o link na lista de links adicionados\n",
    "                    links_adicionados.append(link)\n",
    "                    # Calcula a pontuação da notícia\n",
    "                    texto_noticia = requests.get(link).text\n",
    "                    pontuacao = pontuacao_noticia(texto_noticia, tokens_relevantes, tokens_irrelevantes)\n",
    "                    # Adiciona a notícia e sua pontuação na lista de notícias\n",
    "                    lista_noticias_com_pontuacao.append({'titulo': titulo, 'link': link, 'pontuacao': pontuacao})\n",
    "\n",
    "    noticias_ordenadas = sorted(lista_noticias_com_pontuacao, key=lambda noticia: noticia['pontuacao'], reverse=True)\n",
    "\n",
    "    return noticias_ordenadas"
   ]
  },
  {
   "cell_type": "code",
   "execution_count": null,
   "id": "adc91e4c",
   "metadata": {},
   "outputs": [],
   "source": [
    "buscar_noticias_estadao(data, 'email', 'senha')"
   ]
  },
  {
   "cell_type": "code",
   "execution_count": null,
   "id": "ac2bdd77",
   "metadata": {},
   "outputs": [],
   "source": [
    "def buscar_noticias_estadao(date, username, password):\n",
    "    login_url = 'https://acesso.estadao.com.br/login'\n",
    "    noticias_url = 'https://www.estadao.com.br/politica'\n",
    "\n",
    "    session = requests.Session()\n",
    "\n",
    "    # Realiza login para acessar as notícias\n",
    "    response = session.get(login_url)\n",
    "    \n",
    "\n",
    "    login_data = {\n",
    "        'username': username,\n",
    "        'password': password,\n",
    "    }\n",
    "\n",
    "    response = session.post(login_url, data=login_data)\n",
    "    response.raise_for_status()\n",
    "\n",
    "    # Acessa a página de notícias\n",
    "    response = session.get(noticias_url)\n",
    "    soup = BeautifulSoup(response.content, 'html.parser')\n",
    "\n",
    "    # Encontra as notícias relevantes da data especificada\n",
    "    noticias = []\n",
    "    links_adicionados = []\n",
    "    lista_noticias_com_pontuacao = []\n",
    "    for article in soup.find_all('article'):\n",
    "        timestamp = article.find('time').get('datetime')\n",
    "        date_noticia = datetime.strptime(timestamp, '%Y-%m-%dT%H:%M:%S.%fZ').date()\n",
    "        if date_noticia == date:\n",
    "            titulo = article.find('h3').get_text().strip()\n",
    "            descricao = article.find('p').get_text().strip()\n",
    "            link = article.find('a').get('href')\n",
    "            if link:\n",
    "                link = 'https://www.estadao.com.br' + link\n",
    "                print(f'Processando notícia: {titulo} ({link})')\n",
    "                # Verifica se o link já foi adicionado\n",
    "                if link not in links_adicionados:\n",
    "                    # Adiciona o link na lista de links adicionados\n",
    "                    links_adicionados.append(link)\n",
    "                    # Calcula a pontuação da notícia\n",
    "                    texto_noticia = requests.get(link).text\n",
    "                    pontuacao = pontuacao_noticia(texto_noticia, tokens_relevantes, tokens_irrelevantes)\n",
    "                    print(f'Pontuação da notícia: {pontuacao}')\n",
    "                    # Adiciona a notícia e sua pontuação na lista de notícias\n",
    "                    lista_noticias_com_pontuacao.append({'titulo': titulo, 'link': link, 'pontuacao': pontuacao})\n",
    "\n",
    "    noticias_ordenadas = sorted(lista_noticias_com_pontuacao, key=lambda noticia: noticia['pontuacao'], reverse=True)\n",
    "    print(f'Total de notícias encontradas: {len(noticias_ordenadas)}')\n",
    "\n",
    "    return noticias_ordenadas\n"
   ]
  }
 ],
 "metadata": {
  "kernelspec": {
   "display_name": "Python 3 (ipykernel)",
   "language": "python",
   "name": "python3"
  },
  "language_info": {
   "codemirror_mode": {
    "name": "ipython",
    "version": 3
   },
   "file_extension": ".py",
   "mimetype": "text/x-python",
   "name": "python",
   "nbconvert_exporter": "python",
   "pygments_lexer": "ipython3",
   "version": "3.9.13"
  }
 },
 "nbformat": 4,
 "nbformat_minor": 5
}
